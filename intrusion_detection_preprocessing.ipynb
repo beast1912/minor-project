{
  "nbformat": 4,
  "nbformat_minor": 0,
  "metadata": {
    "colab": {
      "provenance": [],
      "authorship_tag": "ABX9TyNs2joVRs9aDhrvdPOfSufG",
      "include_colab_link": true
    },
    "kernelspec": {
      "name": "python3",
      "display_name": "Python 3"
    },
    "language_info": {
      "name": "python"
    }
  },
  "cells": [
    {
      "cell_type": "markdown",
      "metadata": {
        "id": "view-in-github",
        "colab_type": "text"
      },
      "source": [
        "<a href=\"https://colab.research.google.com/github/beast1912/minor-project/blob/main/intrusion_detection_preprocessing.ipynb\" target=\"_parent\"><img src=\"https://colab.research.google.com/assets/colab-badge.svg\" alt=\"Open In Colab\"/></a>"
      ]
    },
    {
      "cell_type": "code",
      "source": [
        "import pandas as pd\n",
        "import numpy as np\n",
        "import matplotlib.pyplot as plt\n",
        "%matplotlib inline"
      ],
      "metadata": {
        "id": "kFs5rJjw3Dh-"
      },
      "execution_count": null,
      "outputs": []
    },
    {
      "cell_type": "code",
      "source": [
        "df = pd.read_csv('2020.06.19.csv')\n",
        "print(df.head())"
      ],
      "metadata": {
        "colab": {
          "base_uri": "https://localhost:8080/"
        },
        "id": "k3_JcZJv31xA",
        "outputId": "bcbdc1b2-381d-4017-e39b-2f7063a733a8"
      },
      "execution_count": null,
      "outputs": [
        {
          "output_type": "stream",
          "name": "stdout",
          "text": [
            "     avg_ipt  bytes_in  bytes_out  dest_ip  dest_port   entropy  num_pkts_out  \\\n",
            "0   7.500000       342       3679      786     9200.0  5.436687             2   \n",
            "1   0.000000         0          0      786    55972.0  0.000000             1   \n",
            "2   0.500000     15440        942      786     9300.0  2.203135             3   \n",
            "3  20.217391       622      31010      786     9300.0  1.189945            23   \n",
            "4   0.000000         0          0      786    59498.0  0.000000             1   \n",
            "\n",
            "   num_pkts_in  proto  src_ip  src_port          time_end        time_start  \\\n",
            "0            2      6     786   57392.0  1592533725648144  1592533725632946   \n",
            "1            1      6   49453   49493.0  1592533744644904  1592533744644904   \n",
            "2            3      6     786   60512.0  1592533770936279  1592533770933553   \n",
            "3            5      6     786   60490.0   159253376770238    15925337672353   \n",
            "4            1      6     786    9300.0  1592533772973114  1592533772973087   \n",
            "\n",
            "   total_entropy    label  duration  \n",
            "0      21860.918   benign  0.015198  \n",
            "1          0.000  outlier  0.000000  \n",
            "2      36091.754   benign  0.002726  \n",
            "3      37640.355   benign  0.467080  \n",
            "4          0.000   benign  0.000027  \n"
          ]
        }
      ]
    },
    {
      "cell_type": "code",
      "source": [
        "df.info()"
      ],
      "metadata": {
        "colab": {
          "base_uri": "https://localhost:8080/"
        },
        "id": "46jZV8R-9EED",
        "outputId": "64decb13-95c3-462f-f9f0-64e5bda80991"
      },
      "execution_count": null,
      "outputs": [
        {
          "output_type": "stream",
          "name": "stdout",
          "text": [
            "<class 'pandas.core.frame.DataFrame'>\n",
            "RangeIndex: 765360 entries, 0 to 765359\n",
            "Data columns (total 16 columns):\n",
            " #   Column         Non-Null Count   Dtype  \n",
            "---  ------         --------------   -----  \n",
            " 0   avg_ipt        765360 non-null  float64\n",
            " 1   bytes_in       765360 non-null  int64  \n",
            " 2   bytes_out      765360 non-null  int64  \n",
            " 3   dest_ip        765360 non-null  int64  \n",
            " 4   dest_port      740863 non-null  float64\n",
            " 5   entropy        765360 non-null  float64\n",
            " 6   num_pkts_out   765360 non-null  int64  \n",
            " 7   num_pkts_in    765360 non-null  int64  \n",
            " 8   proto          765360 non-null  int64  \n",
            " 9   src_ip         765360 non-null  int64  \n",
            " 10  src_port       740863 non-null  float64\n",
            " 11  time_end       765360 non-null  int64  \n",
            " 12  time_start     765360 non-null  int64  \n",
            " 13  total_entropy  765360 non-null  float64\n",
            " 14  label          765360 non-null  object \n",
            " 15  duration       765360 non-null  float64\n",
            "dtypes: float64(6), int64(9), object(1)\n",
            "memory usage: 93.4+ MB\n"
          ]
        }
      ]
    },
    {
      "cell_type": "code",
      "source": [
        "df.isnull().sum()"
      ],
      "metadata": {
        "colab": {
          "base_uri": "https://localhost:8080/"
        },
        "id": "PKy_K9ic9JZi",
        "outputId": "15dfb5ec-3f49-41db-d050-9a38b602bdd3"
      },
      "execution_count": null,
      "outputs": [
        {
          "output_type": "execute_result",
          "data": {
            "text/plain": [
              "avg_ipt              0\n",
              "bytes_in             0\n",
              "bytes_out            0\n",
              "dest_ip              0\n",
              "dest_port        24497\n",
              "entropy              0\n",
              "num_pkts_out         0\n",
              "num_pkts_in          0\n",
              "proto                0\n",
              "src_ip               0\n",
              "src_port         24497\n",
              "time_end             0\n",
              "time_start           0\n",
              "total_entropy        0\n",
              "label                0\n",
              "duration             0\n",
              "dtype: int64"
            ]
          },
          "metadata": {},
          "execution_count": 5
        }
      ]
    },
    {
      "cell_type": "code",
      "source": [
        "df['dest_port'] = df['dest_port'].fillna(-1)\n",
        "df['src_port'] = df['src_port'].fillna(-1)"
      ],
      "metadata": {
        "id": "LBikC3pr9rV2"
      },
      "execution_count": null,
      "outputs": []
    },
    {
      "cell_type": "code",
      "source": [
        "df.describe()"
      ],
      "metadata": {
        "colab": {
          "base_uri": "https://localhost:8080/",
          "height": 364
        },
        "id": "BZA4a7f4_AgV",
        "outputId": "229f8d27-0fdc-4ae6-8707-6bf200ced90e"
      },
      "execution_count": null,
      "outputs": [
        {
          "output_type": "execute_result",
          "data": {
            "text/plain": [
              "            avg_ipt       bytes_in      bytes_out        dest_ip  \\\n",
              "count  7.653600e+05  765360.000000  765360.000000  765360.000000   \n",
              "mean   3.496450e+06    1592.690275    3462.929138    2470.811163   \n",
              "std    6.386029e+07    6512.809375    8789.176140   12904.890602   \n",
              "min    0.000000e+00       0.000000       0.000000       3.000000   \n",
              "25%    0.000000e+00       0.000000      51.000000     786.000000   \n",
              "50%    0.000000e+00      12.000000     191.000000     786.000000   \n",
              "75%    7.875000e+01     299.000000    2416.000000     786.000000   \n",
              "max    4.294967e+09   65512.000000   65534.000000  327932.000000   \n",
              "\n",
              "           dest_port        entropy   num_pkts_out    num_pkts_in  \\\n",
              "count  765360.000000  765360.000000  765360.000000  765360.000000   \n",
              "mean    11256.602814       3.601672       8.320769       6.238910   \n",
              "std     17023.798949       2.730748      26.132174      23.368682   \n",
              "min        -1.000000       0.000000       0.000000       0.000000   \n",
              "25%       445.000000       1.283159       1.000000       0.000000   \n",
              "50%      9200.000000       4.551788       3.000000       1.000000   \n",
              "75%      9200.000000       5.167237       6.000000       6.000000   \n",
              "max     65535.000000      87.383400     255.000000     255.000000   \n",
              "\n",
              "               proto         src_ip       src_port      time_end  \\\n",
              "count  765360.000000  765360.000000  765360.000000  7.653600e+05   \n",
              "mean        7.364372   25145.177230   40610.732040  1.448437e+15   \n",
              "std         3.971379   48396.740293   20435.337079  4.336832e+14   \n",
              "min         1.000000       3.000000      -1.000000  1.592536e+10   \n",
              "25%         6.000000     786.000000   24391.000000  1.592537e+15   \n",
              "50%         6.000000     786.000000   52412.000000  1.592541e+15   \n",
              "75%         6.000000   25513.000000   52460.000000  1.592562e+15   \n",
              "max        58.000000  396998.000000   65535.000000  1.592611e+15   \n",
              "\n",
              "         time_start  total_entropy       duration  \n",
              "count  7.653600e+05   7.653600e+05  765360.000000  \n",
              "mean   1.448348e+15   2.547258e+04       2.223325  \n",
              "std    4.337866e+14   1.276459e+05       6.741492  \n",
              "min    1.592537e+10   0.000000e+00       0.000000  \n",
              "25%    1.592537e+15   1.583274e+02       0.000047  \n",
              "50%    1.592541e+15   2.146884e+03       0.006980  \n",
              "75%    1.592562e+15   1.881529e+04       0.588607  \n",
              "max    1.592611e+15   3.076726e+06      49.029870  "
            ],
            "text/html": [
              "\n",
              "  <div id=\"df-7f065f85-d6ae-41ba-93a5-b6b7b7075a46\">\n",
              "    <div class=\"colab-df-container\">\n",
              "      <div>\n",
              "<style scoped>\n",
              "    .dataframe tbody tr th:only-of-type {\n",
              "        vertical-align: middle;\n",
              "    }\n",
              "\n",
              "    .dataframe tbody tr th {\n",
              "        vertical-align: top;\n",
              "    }\n",
              "\n",
              "    .dataframe thead th {\n",
              "        text-align: right;\n",
              "    }\n",
              "</style>\n",
              "<table border=\"1\" class=\"dataframe\">\n",
              "  <thead>\n",
              "    <tr style=\"text-align: right;\">\n",
              "      <th></th>\n",
              "      <th>avg_ipt</th>\n",
              "      <th>bytes_in</th>\n",
              "      <th>bytes_out</th>\n",
              "      <th>dest_ip</th>\n",
              "      <th>dest_port</th>\n",
              "      <th>entropy</th>\n",
              "      <th>num_pkts_out</th>\n",
              "      <th>num_pkts_in</th>\n",
              "      <th>proto</th>\n",
              "      <th>src_ip</th>\n",
              "      <th>src_port</th>\n",
              "      <th>time_end</th>\n",
              "      <th>time_start</th>\n",
              "      <th>total_entropy</th>\n",
              "      <th>duration</th>\n",
              "    </tr>\n",
              "  </thead>\n",
              "  <tbody>\n",
              "    <tr>\n",
              "      <th>count</th>\n",
              "      <td>7.653600e+05</td>\n",
              "      <td>765360.000000</td>\n",
              "      <td>765360.000000</td>\n",
              "      <td>765360.000000</td>\n",
              "      <td>765360.000000</td>\n",
              "      <td>765360.000000</td>\n",
              "      <td>765360.000000</td>\n",
              "      <td>765360.000000</td>\n",
              "      <td>765360.000000</td>\n",
              "      <td>765360.000000</td>\n",
              "      <td>765360.000000</td>\n",
              "      <td>7.653600e+05</td>\n",
              "      <td>7.653600e+05</td>\n",
              "      <td>7.653600e+05</td>\n",
              "      <td>765360.000000</td>\n",
              "    </tr>\n",
              "    <tr>\n",
              "      <th>mean</th>\n",
              "      <td>3.496450e+06</td>\n",
              "      <td>1592.690275</td>\n",
              "      <td>3462.929138</td>\n",
              "      <td>2470.811163</td>\n",
              "      <td>11256.602814</td>\n",
              "      <td>3.601672</td>\n",
              "      <td>8.320769</td>\n",
              "      <td>6.238910</td>\n",
              "      <td>7.364372</td>\n",
              "      <td>25145.177230</td>\n",
              "      <td>40610.732040</td>\n",
              "      <td>1.448437e+15</td>\n",
              "      <td>1.448348e+15</td>\n",
              "      <td>2.547258e+04</td>\n",
              "      <td>2.223325</td>\n",
              "    </tr>\n",
              "    <tr>\n",
              "      <th>std</th>\n",
              "      <td>6.386029e+07</td>\n",
              "      <td>6512.809375</td>\n",
              "      <td>8789.176140</td>\n",
              "      <td>12904.890602</td>\n",
              "      <td>17023.798949</td>\n",
              "      <td>2.730748</td>\n",
              "      <td>26.132174</td>\n",
              "      <td>23.368682</td>\n",
              "      <td>3.971379</td>\n",
              "      <td>48396.740293</td>\n",
              "      <td>20435.337079</td>\n",
              "      <td>4.336832e+14</td>\n",
              "      <td>4.337866e+14</td>\n",
              "      <td>1.276459e+05</td>\n",
              "      <td>6.741492</td>\n",
              "    </tr>\n",
              "    <tr>\n",
              "      <th>min</th>\n",
              "      <td>0.000000e+00</td>\n",
              "      <td>0.000000</td>\n",
              "      <td>0.000000</td>\n",
              "      <td>3.000000</td>\n",
              "      <td>-1.000000</td>\n",
              "      <td>0.000000</td>\n",
              "      <td>0.000000</td>\n",
              "      <td>0.000000</td>\n",
              "      <td>1.000000</td>\n",
              "      <td>3.000000</td>\n",
              "      <td>-1.000000</td>\n",
              "      <td>1.592536e+10</td>\n",
              "      <td>1.592537e+10</td>\n",
              "      <td>0.000000e+00</td>\n",
              "      <td>0.000000</td>\n",
              "    </tr>\n",
              "    <tr>\n",
              "      <th>25%</th>\n",
              "      <td>0.000000e+00</td>\n",
              "      <td>0.000000</td>\n",
              "      <td>51.000000</td>\n",
              "      <td>786.000000</td>\n",
              "      <td>445.000000</td>\n",
              "      <td>1.283159</td>\n",
              "      <td>1.000000</td>\n",
              "      <td>0.000000</td>\n",
              "      <td>6.000000</td>\n",
              "      <td>786.000000</td>\n",
              "      <td>24391.000000</td>\n",
              "      <td>1.592537e+15</td>\n",
              "      <td>1.592537e+15</td>\n",
              "      <td>1.583274e+02</td>\n",
              "      <td>0.000047</td>\n",
              "    </tr>\n",
              "    <tr>\n",
              "      <th>50%</th>\n",
              "      <td>0.000000e+00</td>\n",
              "      <td>12.000000</td>\n",
              "      <td>191.000000</td>\n",
              "      <td>786.000000</td>\n",
              "      <td>9200.000000</td>\n",
              "      <td>4.551788</td>\n",
              "      <td>3.000000</td>\n",
              "      <td>1.000000</td>\n",
              "      <td>6.000000</td>\n",
              "      <td>786.000000</td>\n",
              "      <td>52412.000000</td>\n",
              "      <td>1.592541e+15</td>\n",
              "      <td>1.592541e+15</td>\n",
              "      <td>2.146884e+03</td>\n",
              "      <td>0.006980</td>\n",
              "    </tr>\n",
              "    <tr>\n",
              "      <th>75%</th>\n",
              "      <td>7.875000e+01</td>\n",
              "      <td>299.000000</td>\n",
              "      <td>2416.000000</td>\n",
              "      <td>786.000000</td>\n",
              "      <td>9200.000000</td>\n",
              "      <td>5.167237</td>\n",
              "      <td>6.000000</td>\n",
              "      <td>6.000000</td>\n",
              "      <td>6.000000</td>\n",
              "      <td>25513.000000</td>\n",
              "      <td>52460.000000</td>\n",
              "      <td>1.592562e+15</td>\n",
              "      <td>1.592562e+15</td>\n",
              "      <td>1.881529e+04</td>\n",
              "      <td>0.588607</td>\n",
              "    </tr>\n",
              "    <tr>\n",
              "      <th>max</th>\n",
              "      <td>4.294967e+09</td>\n",
              "      <td>65512.000000</td>\n",
              "      <td>65534.000000</td>\n",
              "      <td>327932.000000</td>\n",
              "      <td>65535.000000</td>\n",
              "      <td>87.383400</td>\n",
              "      <td>255.000000</td>\n",
              "      <td>255.000000</td>\n",
              "      <td>58.000000</td>\n",
              "      <td>396998.000000</td>\n",
              "      <td>65535.000000</td>\n",
              "      <td>1.592611e+15</td>\n",
              "      <td>1.592611e+15</td>\n",
              "      <td>3.076726e+06</td>\n",
              "      <td>49.029870</td>\n",
              "    </tr>\n",
              "  </tbody>\n",
              "</table>\n",
              "</div>\n",
              "      <button class=\"colab-df-convert\" onclick=\"convertToInteractive('df-7f065f85-d6ae-41ba-93a5-b6b7b7075a46')\"\n",
              "              title=\"Convert this dataframe to an interactive table.\"\n",
              "              style=\"display:none;\">\n",
              "        \n",
              "  <svg xmlns=\"http://www.w3.org/2000/svg\" height=\"24px\"viewBox=\"0 0 24 24\"\n",
              "       width=\"24px\">\n",
              "    <path d=\"M0 0h24v24H0V0z\" fill=\"none\"/>\n",
              "    <path d=\"M18.56 5.44l.94 2.06.94-2.06 2.06-.94-2.06-.94-.94-2.06-.94 2.06-2.06.94zm-11 1L8.5 8.5l.94-2.06 2.06-.94-2.06-.94L8.5 2.5l-.94 2.06-2.06.94zm10 10l.94 2.06.94-2.06 2.06-.94-2.06-.94-.94-2.06-.94 2.06-2.06.94z\"/><path d=\"M17.41 7.96l-1.37-1.37c-.4-.4-.92-.59-1.43-.59-.52 0-1.04.2-1.43.59L10.3 9.45l-7.72 7.72c-.78.78-.78 2.05 0 2.83L4 21.41c.39.39.9.59 1.41.59.51 0 1.02-.2 1.41-.59l7.78-7.78 2.81-2.81c.8-.78.8-2.07 0-2.86zM5.41 20L4 18.59l7.72-7.72 1.47 1.35L5.41 20z\"/>\n",
              "  </svg>\n",
              "      </button>\n",
              "      \n",
              "  <style>\n",
              "    .colab-df-container {\n",
              "      display:flex;\n",
              "      flex-wrap:wrap;\n",
              "      gap: 12px;\n",
              "    }\n",
              "\n",
              "    .colab-df-convert {\n",
              "      background-color: #E8F0FE;\n",
              "      border: none;\n",
              "      border-radius: 50%;\n",
              "      cursor: pointer;\n",
              "      display: none;\n",
              "      fill: #1967D2;\n",
              "      height: 32px;\n",
              "      padding: 0 0 0 0;\n",
              "      width: 32px;\n",
              "    }\n",
              "\n",
              "    .colab-df-convert:hover {\n",
              "      background-color: #E2EBFA;\n",
              "      box-shadow: 0px 1px 2px rgba(60, 64, 67, 0.3), 0px 1px 3px 1px rgba(60, 64, 67, 0.15);\n",
              "      fill: #174EA6;\n",
              "    }\n",
              "\n",
              "    [theme=dark] .colab-df-convert {\n",
              "      background-color: #3B4455;\n",
              "      fill: #D2E3FC;\n",
              "    }\n",
              "\n",
              "    [theme=dark] .colab-df-convert:hover {\n",
              "      background-color: #434B5C;\n",
              "      box-shadow: 0px 1px 3px 1px rgba(0, 0, 0, 0.15);\n",
              "      filter: drop-shadow(0px 1px 2px rgba(0, 0, 0, 0.3));\n",
              "      fill: #FFFFFF;\n",
              "    }\n",
              "  </style>\n",
              "\n",
              "      <script>\n",
              "        const buttonEl =\n",
              "          document.querySelector('#df-7f065f85-d6ae-41ba-93a5-b6b7b7075a46 button.colab-df-convert');\n",
              "        buttonEl.style.display =\n",
              "          google.colab.kernel.accessAllowed ? 'block' : 'none';\n",
              "\n",
              "        async function convertToInteractive(key) {\n",
              "          const element = document.querySelector('#df-7f065f85-d6ae-41ba-93a5-b6b7b7075a46');\n",
              "          const dataTable =\n",
              "            await google.colab.kernel.invokeFunction('convertToInteractive',\n",
              "                                                     [key], {});\n",
              "          if (!dataTable) return;\n",
              "\n",
              "          const docLinkHtml = 'Like what you see? Visit the ' +\n",
              "            '<a target=\"_blank\" href=https://colab.research.google.com/notebooks/data_table.ipynb>data table notebook</a>'\n",
              "            + ' to learn more about interactive tables.';\n",
              "          element.innerHTML = '';\n",
              "          dataTable['output_type'] = 'display_data';\n",
              "          await google.colab.output.renderOutput(dataTable, element);\n",
              "          const docLink = document.createElement('div');\n",
              "          docLink.innerHTML = docLinkHtml;\n",
              "          element.appendChild(docLink);\n",
              "        }\n",
              "      </script>\n",
              "    </div>\n",
              "  </div>\n",
              "  "
            ]
          },
          "metadata": {},
          "execution_count": 7
        }
      ]
    },
    {
      "cell_type": "code",
      "source": [
        "features = df.drop(['label'], axis = 1).values\n",
        "detection_labels = df['label'].values"
      ],
      "metadata": {
        "id": "-xLboKuw_PT6"
      },
      "execution_count": null,
      "outputs": []
    },
    {
      "cell_type": "code",
      "source": [
        "print(features)"
      ],
      "metadata": {
        "colab": {
          "base_uri": "https://localhost:8080/"
        },
        "id": "ZyYVKxN1BPmm",
        "outputId": "8ee73407-eed4-4057-8cd2-98055115be3e"
      },
      "execution_count": null,
      "outputs": [
        {
          "output_type": "stream",
          "name": "stdout",
          "text": [
            "[[7.50000000e+00 3.42000000e+02 3.67900000e+03 ... 1.59253373e+15\n",
            "  2.18609180e+04 1.51980000e-02]\n",
            " [0.00000000e+00 0.00000000e+00 0.00000000e+00 ... 1.59253374e+15\n",
            "  0.00000000e+00 0.00000000e+00]\n",
            " [5.00000000e-01 1.54400000e+04 9.42000000e+02 ... 1.59253377e+15\n",
            "  3.60917540e+04 2.72600000e-03]\n",
            " ...\n",
            " [1.11111111e+00 3.48000000e+02 9.12600000e+03 ... 1.59261118e+15\n",
            "  2.84207750e+04 1.12390000e-02]\n",
            " [1.60250000e+03 1.12000000e+02 1.12000000e+02 ... 1.59261117e+14\n",
            "  2.37515150e+02 6.41061500e+00]\n",
            " [0.00000000e+00 5.60000000e+01 5.60000000e+01 ... 1.59261118e+15\n",
            "  1.14267365e+02 8.10000000e-05]]\n"
          ]
        }
      ]
    },
    {
      "cell_type": "code",
      "source": [
        "print(detection_labels)"
      ],
      "metadata": {
        "colab": {
          "base_uri": "https://localhost:8080/"
        },
        "id": "YGTPsBcx_sMa",
        "outputId": "44374a86-088e-4c8b-8b8e-43463399037f"
      },
      "execution_count": null,
      "outputs": [
        {
          "output_type": "stream",
          "name": "stdout",
          "text": [
            "['benign' 'outlier' 'benign' ... 'benign' 'malicious' 'malicious']\n"
          ]
        }
      ]
    },
    {
      "cell_type": "code",
      "source": [
        "from sklearn.preprocessing import LabelEncoder\n",
        "le = LabelEncoder()\n",
        "detection_labels = le.fit_transform(detection_labels)\n"
      ],
      "metadata": {
        "id": "hu40YOet_C7l"
      },
      "execution_count": null,
      "outputs": []
    },
    {
      "cell_type": "code",
      "source": [
        "np.unique(detection_labels)"
      ],
      "metadata": {
        "colab": {
          "base_uri": "https://localhost:8080/"
        },
        "id": "LMIMh_ZSB9qu",
        "outputId": "ba65cd5c-34f3-43ee-a3de-bc403ac4dbb1"
      },
      "execution_count": null,
      "outputs": [
        {
          "output_type": "execute_result",
          "data": {
            "text/plain": [
              "array([0, 1, 2])"
            ]
          },
          "metadata": {},
          "execution_count": 30
        }
      ]
    }
  ]
}